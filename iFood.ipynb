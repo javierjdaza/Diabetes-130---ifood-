{
 "cells": [
  {
   "cell_type": "code",
   "execution_count": 1,
   "id": "2f76fe1c",
   "metadata": {
    "ExecuteTime": {
     "end_time": "2021-11-30T05:32:23.685915Z",
     "start_time": "2021-11-30T05:32:23.682407Z"
    }
   },
   "outputs": [],
   "source": [
    "import pandas as pd\n",
    "# pd.set_option('display.max_columns', 500)\n",
    "# pd.set_option('display.width', 1000)\n",
    "import seaborn as sns\n",
    "import matplotlib.pyplot as plt\n",
    "import numpy as np\n",
    "import scipy\n",
    "import warnings\n",
    "warnings.filterwarnings('ignore')"
   ]
  },
  {
   "cell_type": "code",
   "execution_count": 2,
   "id": "cd9248fa",
   "metadata": {
    "ExecuteTime": {
     "end_time": "2021-11-30T05:32:23.952916Z",
     "start_time": "2021-11-30T05:32:23.948739Z"
    }
   },
   "outputs": [],
   "source": [
    "from sklearn.model_selection import train_test_split\n",
    "from sklearn.preprocessing import StandardScaler\n",
    "from sklearn import metrics\n",
    "from sklearn.model_selection import GridSearchCV\n",
    "from sklearn.model_selection import RandomizedSearchCV\n",
    "from sklearn.model_selection import cross_val_score\n",
    "from sklearn.metrics import confusion_matrix\n",
    "from sklearn.metrics import roc_curve, auc\n",
    "from sklearn.metrics import classification_report\n",
    "\n",
    "from sklearn.naive_bayes import GaussianNB\n",
    "from sklearn.neighbors import KNeighborsClassifier\n",
    "from sklearn.svm import SVC\n",
    "from sklearn.ensemble import RandomForestClassifier\n",
    "from sklearn.ensemble import GradientBoostingClassifier"
   ]
  },
  {
   "cell_type": "code",
   "execution_count": 3,
   "id": "e7960971",
   "metadata": {
    "ExecuteTime": {
     "end_time": "2021-11-30T05:32:24.703234Z",
     "start_time": "2021-11-30T05:32:24.195632Z"
    }
   },
   "outputs": [],
   "source": [
    "df = pd.read_csv('./diabetic_data.csv')"
   ]
  },
  {
   "cell_type": "markdown",
   "id": "3e53bddd",
   "metadata": {
    "ExecuteTime": {
     "end_time": "2021-11-30T01:40:36.465637Z",
     "start_time": "2021-11-30T01:40:36.463161Z"
    }
   },
   "source": [
    "## DATA WRANGLING"
   ]
  },
  {
   "cell_type": "code",
   "execution_count": 4,
   "id": "a61077e5",
   "metadata": {
    "ExecuteTime": {
     "end_time": "2021-11-30T05:32:26.478507Z",
     "start_time": "2021-11-30T05:32:26.447987Z"
    }
   },
   "outputs": [
    {
     "data": {
      "text/html": [
       "<div>\n",
       "<style scoped>\n",
       "    .dataframe tbody tr th:only-of-type {\n",
       "        vertical-align: middle;\n",
       "    }\n",
       "\n",
       "    .dataframe tbody tr th {\n",
       "        vertical-align: top;\n",
       "    }\n",
       "\n",
       "    .dataframe thead th {\n",
       "        text-align: right;\n",
       "    }\n",
       "</style>\n",
       "<table border=\"1\" class=\"dataframe\">\n",
       "  <thead>\n",
       "    <tr style=\"text-align: right;\">\n",
       "      <th></th>\n",
       "      <th>encounter_id</th>\n",
       "      <th>patient_nbr</th>\n",
       "      <th>race</th>\n",
       "      <th>gender</th>\n",
       "      <th>age</th>\n",
       "      <th>weight</th>\n",
       "      <th>admission_type_id</th>\n",
       "      <th>discharge_disposition_id</th>\n",
       "      <th>admission_source_id</th>\n",
       "      <th>time_in_hospital</th>\n",
       "      <th>...</th>\n",
       "      <th>citoglipton</th>\n",
       "      <th>insulin</th>\n",
       "      <th>glyburide-metformin</th>\n",
       "      <th>glipizide-metformin</th>\n",
       "      <th>glimepiride-pioglitazone</th>\n",
       "      <th>metformin-rosiglitazone</th>\n",
       "      <th>metformin-pioglitazone</th>\n",
       "      <th>change</th>\n",
       "      <th>diabetesMed</th>\n",
       "      <th>readmitted</th>\n",
       "    </tr>\n",
       "  </thead>\n",
       "  <tbody>\n",
       "    <tr>\n",
       "      <th>0</th>\n",
       "      <td>2278392</td>\n",
       "      <td>8222157</td>\n",
       "      <td>Caucasian</td>\n",
       "      <td>Female</td>\n",
       "      <td>[0-10)</td>\n",
       "      <td>?</td>\n",
       "      <td>6</td>\n",
       "      <td>25</td>\n",
       "      <td>1</td>\n",
       "      <td>1</td>\n",
       "      <td>...</td>\n",
       "      <td>No</td>\n",
       "      <td>No</td>\n",
       "      <td>No</td>\n",
       "      <td>No</td>\n",
       "      <td>No</td>\n",
       "      <td>No</td>\n",
       "      <td>No</td>\n",
       "      <td>No</td>\n",
       "      <td>No</td>\n",
       "      <td>NO</td>\n",
       "    </tr>\n",
       "    <tr>\n",
       "      <th>1</th>\n",
       "      <td>149190</td>\n",
       "      <td>55629189</td>\n",
       "      <td>Caucasian</td>\n",
       "      <td>Female</td>\n",
       "      <td>[10-20)</td>\n",
       "      <td>?</td>\n",
       "      <td>1</td>\n",
       "      <td>1</td>\n",
       "      <td>7</td>\n",
       "      <td>3</td>\n",
       "      <td>...</td>\n",
       "      <td>No</td>\n",
       "      <td>Up</td>\n",
       "      <td>No</td>\n",
       "      <td>No</td>\n",
       "      <td>No</td>\n",
       "      <td>No</td>\n",
       "      <td>No</td>\n",
       "      <td>Ch</td>\n",
       "      <td>Yes</td>\n",
       "      <td>&gt;30</td>\n",
       "    </tr>\n",
       "    <tr>\n",
       "      <th>2</th>\n",
       "      <td>64410</td>\n",
       "      <td>86047875</td>\n",
       "      <td>AfricanAmerican</td>\n",
       "      <td>Female</td>\n",
       "      <td>[20-30)</td>\n",
       "      <td>?</td>\n",
       "      <td>1</td>\n",
       "      <td>1</td>\n",
       "      <td>7</td>\n",
       "      <td>2</td>\n",
       "      <td>...</td>\n",
       "      <td>No</td>\n",
       "      <td>No</td>\n",
       "      <td>No</td>\n",
       "      <td>No</td>\n",
       "      <td>No</td>\n",
       "      <td>No</td>\n",
       "      <td>No</td>\n",
       "      <td>No</td>\n",
       "      <td>Yes</td>\n",
       "      <td>NO</td>\n",
       "    </tr>\n",
       "    <tr>\n",
       "      <th>3</th>\n",
       "      <td>500364</td>\n",
       "      <td>82442376</td>\n",
       "      <td>Caucasian</td>\n",
       "      <td>Male</td>\n",
       "      <td>[30-40)</td>\n",
       "      <td>?</td>\n",
       "      <td>1</td>\n",
       "      <td>1</td>\n",
       "      <td>7</td>\n",
       "      <td>2</td>\n",
       "      <td>...</td>\n",
       "      <td>No</td>\n",
       "      <td>Up</td>\n",
       "      <td>No</td>\n",
       "      <td>No</td>\n",
       "      <td>No</td>\n",
       "      <td>No</td>\n",
       "      <td>No</td>\n",
       "      <td>Ch</td>\n",
       "      <td>Yes</td>\n",
       "      <td>NO</td>\n",
       "    </tr>\n",
       "    <tr>\n",
       "      <th>4</th>\n",
       "      <td>16680</td>\n",
       "      <td>42519267</td>\n",
       "      <td>Caucasian</td>\n",
       "      <td>Male</td>\n",
       "      <td>[40-50)</td>\n",
       "      <td>?</td>\n",
       "      <td>1</td>\n",
       "      <td>1</td>\n",
       "      <td>7</td>\n",
       "      <td>1</td>\n",
       "      <td>...</td>\n",
       "      <td>No</td>\n",
       "      <td>Steady</td>\n",
       "      <td>No</td>\n",
       "      <td>No</td>\n",
       "      <td>No</td>\n",
       "      <td>No</td>\n",
       "      <td>No</td>\n",
       "      <td>Ch</td>\n",
       "      <td>Yes</td>\n",
       "      <td>NO</td>\n",
       "    </tr>\n",
       "  </tbody>\n",
       "</table>\n",
       "<p>5 rows × 50 columns</p>\n",
       "</div>"
      ],
      "text/plain": [
       "   encounter_id  patient_nbr             race  gender      age weight  \\\n",
       "0       2278392      8222157        Caucasian  Female   [0-10)      ?   \n",
       "1        149190     55629189        Caucasian  Female  [10-20)      ?   \n",
       "2         64410     86047875  AfricanAmerican  Female  [20-30)      ?   \n",
       "3        500364     82442376        Caucasian    Male  [30-40)      ?   \n",
       "4         16680     42519267        Caucasian    Male  [40-50)      ?   \n",
       "\n",
       "   admission_type_id  discharge_disposition_id  admission_source_id  \\\n",
       "0                  6                        25                    1   \n",
       "1                  1                         1                    7   \n",
       "2                  1                         1                    7   \n",
       "3                  1                         1                    7   \n",
       "4                  1                         1                    7   \n",
       "\n",
       "   time_in_hospital  ... citoglipton insulin  glyburide-metformin  \\\n",
       "0                 1  ...          No      No                   No   \n",
       "1                 3  ...          No      Up                   No   \n",
       "2                 2  ...          No      No                   No   \n",
       "3                 2  ...          No      Up                   No   \n",
       "4                 1  ...          No  Steady                   No   \n",
       "\n",
       "   glipizide-metformin  glimepiride-pioglitazone  metformin-rosiglitazone  \\\n",
       "0                   No                        No                       No   \n",
       "1                   No                        No                       No   \n",
       "2                   No                        No                       No   \n",
       "3                   No                        No                       No   \n",
       "4                   No                        No                       No   \n",
       "\n",
       "   metformin-pioglitazone  change diabetesMed readmitted  \n",
       "0                      No      No          No         NO  \n",
       "1                      No      Ch         Yes        >30  \n",
       "2                      No      No         Yes         NO  \n",
       "3                      No      Ch         Yes         NO  \n",
       "4                      No      Ch         Yes         NO  \n",
       "\n",
       "[5 rows x 50 columns]"
      ]
     },
     "execution_count": 4,
     "metadata": {},
     "output_type": "execute_result"
    }
   ],
   "source": [
    "df.head()"
   ]
  },
  {
   "cell_type": "code",
   "execution_count": 5,
   "id": "4d7f616e",
   "metadata": {
    "ExecuteTime": {
     "end_time": "2021-11-30T05:32:27.042486Z",
     "start_time": "2021-11-30T05:32:26.607451Z"
    },
    "collapsed": true
   },
   "outputs": [
    {
     "name": "stdout",
     "output_type": "stream",
     "text": [
      "Column: race\n"
     ]
    },
    {
     "data": {
      "text/plain": [
       "Caucasian          76099\n",
       "AfricanAmerican    19210\n",
       "?                   2273\n",
       "Hispanic            2037\n",
       "Other               1506\n",
       "Asian                641\n",
       "Name: race, dtype: int64"
      ]
     },
     "metadata": {},
     "output_type": "display_data"
    },
    {
     "name": "stdout",
     "output_type": "stream",
     "text": [
      "------------------------------\n",
      "Column: gender\n"
     ]
    },
    {
     "data": {
      "text/plain": [
       "Female             54708\n",
       "Male               47055\n",
       "Unknown/Invalid        3\n",
       "Name: gender, dtype: int64"
      ]
     },
     "metadata": {},
     "output_type": "display_data"
    },
    {
     "name": "stdout",
     "output_type": "stream",
     "text": [
      "------------------------------\n",
      "Column: age\n"
     ]
    },
    {
     "data": {
      "text/plain": [
       "[70-80)     26068\n",
       "[60-70)     22483\n",
       "[50-60)     17256\n",
       "[80-90)     17197\n",
       "[40-50)      9685\n",
       "[30-40)      3775\n",
       "[90-100)     2793\n",
       "[20-30)      1657\n",
       "[10-20)       691\n",
       "[0-10)        161\n",
       "Name: age, dtype: int64"
      ]
     },
     "metadata": {},
     "output_type": "display_data"
    },
    {
     "name": "stdout",
     "output_type": "stream",
     "text": [
      "------------------------------\n",
      "Column: weight\n"
     ]
    },
    {
     "data": {
      "text/plain": [
       "?            98569\n",
       "[75-100)      1336\n",
       "[50-75)        897\n",
       "[100-125)      625\n",
       "[125-150)      145\n",
       "[25-50)         97\n",
       "[0-25)          48\n",
       "[150-175)       35\n",
       "[175-200)       11\n",
       ">200             3\n",
       "Name: weight, dtype: int64"
      ]
     },
     "metadata": {},
     "output_type": "display_data"
    },
    {
     "name": "stdout",
     "output_type": "stream",
     "text": [
      "------------------------------\n",
      "Column: admission_type_id\n"
     ]
    },
    {
     "data": {
      "text/plain": [
       "1    53990\n",
       "3    18869\n",
       "2    18480\n",
       "6     5291\n",
       "5     4785\n",
       "8      320\n",
       "7       21\n",
       "4       10\n",
       "Name: admission_type_id, dtype: int64"
      ]
     },
     "metadata": {},
     "output_type": "display_data"
    },
    {
     "name": "stdout",
     "output_type": "stream",
     "text": [
      "------------------------------\n",
      "Column: discharge_disposition_id\n"
     ]
    },
    {
     "data": {
      "text/plain": [
       "1     60234\n",
       "3     13954\n",
       "6     12902\n",
       "18     3691\n",
       "2      2128\n",
       "22     1993\n",
       "11     1642\n",
       "5      1184\n",
       "25      989\n",
       "4       815\n",
       "7       623\n",
       "23      412\n",
       "13      399\n",
       "14      372\n",
       "28      139\n",
       "8       108\n",
       "15       63\n",
       "24       48\n",
       "9        21\n",
       "17       14\n",
       "16       11\n",
       "19        8\n",
       "10        6\n",
       "27        5\n",
       "12        3\n",
       "20        2\n",
       "Name: discharge_disposition_id, dtype: int64"
      ]
     },
     "metadata": {},
     "output_type": "display_data"
    },
    {
     "name": "stdout",
     "output_type": "stream",
     "text": [
      "------------------------------\n",
      "Column: admission_source_id\n"
     ]
    },
    {
     "data": {
      "text/plain": [
       "7     57494\n",
       "1     29565\n",
       "17     6781\n",
       "4      3187\n",
       "6      2264\n",
       "2      1104\n",
       "5       855\n",
       "3       187\n",
       "20      161\n",
       "9       125\n",
       "8        16\n",
       "22       12\n",
       "10        8\n",
       "14        2\n",
       "11        2\n",
       "25        2\n",
       "13        1\n",
       "Name: admission_source_id, dtype: int64"
      ]
     },
     "metadata": {},
     "output_type": "display_data"
    },
    {
     "name": "stdout",
     "output_type": "stream",
     "text": [
      "------------------------------\n",
      "Column: time_in_hospital\n"
     ]
    },
    {
     "data": {
      "text/plain": [
       "3     17756\n",
       "2     17224\n",
       "1     14208\n",
       "4     13924\n",
       "5      9966\n",
       "6      7539\n",
       "7      5859\n",
       "8      4391\n",
       "9      3002\n",
       "10     2342\n",
       "11     1855\n",
       "12     1448\n",
       "13     1210\n",
       "14     1042\n",
       "Name: time_in_hospital, dtype: int64"
      ]
     },
     "metadata": {},
     "output_type": "display_data"
    },
    {
     "name": "stdout",
     "output_type": "stream",
     "text": [
      "------------------------------\n",
      "Column: payer_code\n"
     ]
    },
    {
     "data": {
      "text/plain": [
       "?     40256\n",
       "MC    32439\n",
       "HM     6274\n",
       "SP     5007\n",
       "BC     4655\n",
       "MD     3532\n",
       "CP     2533\n",
       "UN     2448\n",
       "CM     1937\n",
       "OG     1033\n",
       "PO      592\n",
       "DM      549\n",
       "CH      146\n",
       "WC      135\n",
       "OT       95\n",
       "MP       79\n",
       "SI       55\n",
       "FR        1\n",
       "Name: payer_code, dtype: int64"
      ]
     },
     "metadata": {},
     "output_type": "display_data"
    },
    {
     "name": "stdout",
     "output_type": "stream",
     "text": [
      "------------------------------\n",
      "Column: medical_specialty\n"
     ]
    },
    {
     "data": {
      "text/plain": [
       "?                                49949\n",
       "InternalMedicine                 14635\n",
       "Emergency/Trauma                  7565\n",
       "Family/GeneralPractice            7440\n",
       "Cardiology                        5352\n",
       "                                 ...  \n",
       "SportsMedicine                       1\n",
       "Speech                               1\n",
       "Perinatology                         1\n",
       "Neurophysiology                      1\n",
       "Pediatrics-InfectiousDiseases        1\n",
       "Name: medical_specialty, Length: 73, dtype: int64"
      ]
     },
     "metadata": {},
     "output_type": "display_data"
    },
    {
     "name": "stdout",
     "output_type": "stream",
     "text": [
      "------------------------------\n",
      "Column: num_lab_procedures\n"
     ]
    },
    {
     "data": {
      "text/plain": [
       "1      3208\n",
       "43     2804\n",
       "44     2496\n",
       "45     2376\n",
       "38     2213\n",
       "       ... \n",
       "120       1\n",
       "132       1\n",
       "121       1\n",
       "126       1\n",
       "118       1\n",
       "Name: num_lab_procedures, Length: 118, dtype: int64"
      ]
     },
     "metadata": {},
     "output_type": "display_data"
    },
    {
     "name": "stdout",
     "output_type": "stream",
     "text": [
      "------------------------------\n",
      "Column: num_procedures\n"
     ]
    },
    {
     "data": {
      "text/plain": [
       "0    46652\n",
       "1    20742\n",
       "2    12717\n",
       "3     9443\n",
       "6     4954\n",
       "4     4180\n",
       "5     3078\n",
       "Name: num_procedures, dtype: int64"
      ]
     },
     "metadata": {},
     "output_type": "display_data"
    },
    {
     "name": "stdout",
     "output_type": "stream",
     "text": [
      "------------------------------\n",
      "Column: num_medications\n"
     ]
    },
    {
     "data": {
      "text/plain": [
       "13    6086\n",
       "12    6004\n",
       "11    5795\n",
       "15    5792\n",
       "14    5707\n",
       "      ... \n",
       "70       2\n",
       "75       2\n",
       "81       1\n",
       "79       1\n",
       "74       1\n",
       "Name: num_medications, Length: 75, dtype: int64"
      ]
     },
     "metadata": {},
     "output_type": "display_data"
    },
    {
     "name": "stdout",
     "output_type": "stream",
     "text": [
      "------------------------------\n",
      "Column: number_outpatient\n"
     ]
    },
    {
     "data": {
      "text/plain": [
       "0     85027\n",
       "1      8547\n",
       "2      3594\n",
       "3      2042\n",
       "4      1099\n",
       "5       533\n",
       "6       303\n",
       "7       155\n",
       "8        98\n",
       "9        83\n",
       "10       57\n",
       "11       42\n",
       "13       31\n",
       "12       30\n",
       "14       28\n",
       "15       20\n",
       "16       15\n",
       "17        8\n",
       "21        7\n",
       "20        7\n",
       "18        5\n",
       "22        5\n",
       "19        3\n",
       "27        3\n",
       "24        3\n",
       "26        2\n",
       "23        2\n",
       "25        2\n",
       "33        2\n",
       "35        2\n",
       "36        2\n",
       "29        2\n",
       "34        1\n",
       "39        1\n",
       "42        1\n",
       "28        1\n",
       "37        1\n",
       "38        1\n",
       "40        1\n",
       "Name: number_outpatient, dtype: int64"
      ]
     },
     "metadata": {},
     "output_type": "display_data"
    },
    {
     "name": "stdout",
     "output_type": "stream",
     "text": [
      "------------------------------\n",
      "Column: number_emergency\n"
     ]
    },
    {
     "data": {
      "text/plain": [
       "0     90383\n",
       "1      7677\n",
       "2      2042\n",
       "3       725\n",
       "4       374\n",
       "5       192\n",
       "6        94\n",
       "7        73\n",
       "8        50\n",
       "10       34\n",
       "9        33\n",
       "11       23\n",
       "13       12\n",
       "12       10\n",
       "22        6\n",
       "16        5\n",
       "18        5\n",
       "19        4\n",
       "20        4\n",
       "15        3\n",
       "14        3\n",
       "25        2\n",
       "21        2\n",
       "28        1\n",
       "42        1\n",
       "46        1\n",
       "76        1\n",
       "37        1\n",
       "64        1\n",
       "63        1\n",
       "54        1\n",
       "24        1\n",
       "29        1\n",
       "Name: number_emergency, dtype: int64"
      ]
     },
     "metadata": {},
     "output_type": "display_data"
    },
    {
     "name": "stdout",
     "output_type": "stream",
     "text": [
      "------------------------------\n",
      "Column: number_inpatient\n"
     ]
    },
    {
     "data": {
      "text/plain": [
       "0     67630\n",
       "1     19521\n",
       "2      7566\n",
       "3      3411\n",
       "4      1622\n",
       "5       812\n",
       "6       480\n",
       "7       268\n",
       "8       151\n",
       "9       111\n",
       "10       61\n",
       "11       49\n",
       "12       34\n",
       "13       20\n",
       "14       10\n",
       "15        9\n",
       "16        6\n",
       "19        2\n",
       "17        1\n",
       "21        1\n",
       "18        1\n",
       "Name: number_inpatient, dtype: int64"
      ]
     },
     "metadata": {},
     "output_type": "display_data"
    },
    {
     "name": "stdout",
     "output_type": "stream",
     "text": [
      "------------------------------\n",
      "Column: diag_1\n"
     ]
    },
    {
     "data": {
      "text/plain": [
       "428    6862\n",
       "414    6581\n",
       "786    4016\n",
       "410    3614\n",
       "486    3508\n",
       "       ... \n",
       "373       1\n",
       "314       1\n",
       "684       1\n",
       "217       1\n",
       "V51       1\n",
       "Name: diag_1, Length: 717, dtype: int64"
      ]
     },
     "metadata": {},
     "output_type": "display_data"
    },
    {
     "name": "stdout",
     "output_type": "stream",
     "text": [
      "------------------------------\n",
      "Column: diag_2\n"
     ]
    },
    {
     "data": {
      "text/plain": [
       "276     6752\n",
       "428     6662\n",
       "250     6071\n",
       "427     5036\n",
       "401     3736\n",
       "        ... \n",
       "E918       1\n",
       "46         1\n",
       "V13        1\n",
       "E850       1\n",
       "927        1\n",
       "Name: diag_2, Length: 749, dtype: int64"
      ]
     },
     "metadata": {},
     "output_type": "display_data"
    },
    {
     "name": "stdout",
     "output_type": "stream",
     "text": [
      "------------------------------\n",
      "Column: diag_3\n"
     ]
    },
    {
     "data": {
      "text/plain": [
       "250     11555\n",
       "401      8289\n",
       "276      5175\n",
       "428      4577\n",
       "427      3955\n",
       "        ...  \n",
       "657         1\n",
       "684         1\n",
       "603         1\n",
       "E826        1\n",
       "971         1\n",
       "Name: diag_3, Length: 790, dtype: int64"
      ]
     },
     "metadata": {},
     "output_type": "display_data"
    },
    {
     "name": "stdout",
     "output_type": "stream",
     "text": [
      "------------------------------\n",
      "Column: number_diagnoses\n"
     ]
    },
    {
     "data": {
      "text/plain": [
       "9     49474\n",
       "5     11393\n",
       "8     10616\n",
       "7     10393\n",
       "6     10161\n",
       "4      5537\n",
       "3      2835\n",
       "2      1023\n",
       "1       219\n",
       "16       45\n",
       "10       17\n",
       "13       16\n",
       "11       11\n",
       "15       10\n",
       "12        9\n",
       "14        7\n",
       "Name: number_diagnoses, dtype: int64"
      ]
     },
     "metadata": {},
     "output_type": "display_data"
    },
    {
     "name": "stdout",
     "output_type": "stream",
     "text": [
      "------------------------------\n",
      "Column: max_glu_serum\n"
     ]
    },
    {
     "data": {
      "text/plain": [
       "None    96420\n",
       "Norm     2597\n",
       ">200     1485\n",
       ">300     1264\n",
       "Name: max_glu_serum, dtype: int64"
      ]
     },
     "metadata": {},
     "output_type": "display_data"
    },
    {
     "name": "stdout",
     "output_type": "stream",
     "text": [
      "------------------------------\n",
      "Column: A1Cresult\n"
     ]
    },
    {
     "data": {
      "text/plain": [
       "None    84748\n",
       ">8       8216\n",
       "Norm     4990\n",
       ">7       3812\n",
       "Name: A1Cresult, dtype: int64"
      ]
     },
     "metadata": {},
     "output_type": "display_data"
    },
    {
     "name": "stdout",
     "output_type": "stream",
     "text": [
      "------------------------------\n",
      "Column: metformin\n"
     ]
    },
    {
     "data": {
      "text/plain": [
       "No        81778\n",
       "Steady    18346\n",
       "Up         1067\n",
       "Down        575\n",
       "Name: metformin, dtype: int64"
      ]
     },
     "metadata": {},
     "output_type": "display_data"
    },
    {
     "name": "stdout",
     "output_type": "stream",
     "text": [
      "------------------------------\n",
      "Column: repaglinide\n"
     ]
    },
    {
     "data": {
      "text/plain": [
       "No        100227\n",
       "Steady      1384\n",
       "Up           110\n",
       "Down          45\n",
       "Name: repaglinide, dtype: int64"
      ]
     },
     "metadata": {},
     "output_type": "display_data"
    },
    {
     "name": "stdout",
     "output_type": "stream",
     "text": [
      "------------------------------\n",
      "Column: nateglinide\n"
     ]
    },
    {
     "data": {
      "text/plain": [
       "No        101063\n",
       "Steady       668\n",
       "Up            24\n",
       "Down          11\n",
       "Name: nateglinide, dtype: int64"
      ]
     },
     "metadata": {},
     "output_type": "display_data"
    },
    {
     "name": "stdout",
     "output_type": "stream",
     "text": [
      "------------------------------\n",
      "Column: chlorpropamide\n"
     ]
    },
    {
     "data": {
      "text/plain": [
       "No        101680\n",
       "Steady        79\n",
       "Up             6\n",
       "Down           1\n",
       "Name: chlorpropamide, dtype: int64"
      ]
     },
     "metadata": {},
     "output_type": "display_data"
    },
    {
     "name": "stdout",
     "output_type": "stream",
     "text": [
      "------------------------------\n",
      "Column: glimepiride\n"
     ]
    },
    {
     "data": {
      "text/plain": [
       "No        96575\n",
       "Steady     4670\n",
       "Up          327\n",
       "Down        194\n",
       "Name: glimepiride, dtype: int64"
      ]
     },
     "metadata": {},
     "output_type": "display_data"
    },
    {
     "name": "stdout",
     "output_type": "stream",
     "text": [
      "------------------------------\n",
      "Column: acetohexamide\n"
     ]
    },
    {
     "data": {
      "text/plain": [
       "No        101765\n",
       "Steady         1\n",
       "Name: acetohexamide, dtype: int64"
      ]
     },
     "metadata": {},
     "output_type": "display_data"
    },
    {
     "name": "stdout",
     "output_type": "stream",
     "text": [
      "------------------------------\n",
      "Column: glipizide\n"
     ]
    },
    {
     "data": {
      "text/plain": [
       "No        89080\n",
       "Steady    11356\n",
       "Up          770\n",
       "Down        560\n",
       "Name: glipizide, dtype: int64"
      ]
     },
     "metadata": {},
     "output_type": "display_data"
    },
    {
     "name": "stdout",
     "output_type": "stream",
     "text": [
      "------------------------------\n",
      "Column: glyburide\n"
     ]
    },
    {
     "data": {
      "text/plain": [
       "No        91116\n",
       "Steady     9274\n",
       "Up          812\n",
       "Down        564\n",
       "Name: glyburide, dtype: int64"
      ]
     },
     "metadata": {},
     "output_type": "display_data"
    },
    {
     "name": "stdout",
     "output_type": "stream",
     "text": [
      "------------------------------\n",
      "Column: tolbutamide\n"
     ]
    },
    {
     "data": {
      "text/plain": [
       "No        101743\n",
       "Steady        23\n",
       "Name: tolbutamide, dtype: int64"
      ]
     },
     "metadata": {},
     "output_type": "display_data"
    },
    {
     "name": "stdout",
     "output_type": "stream",
     "text": [
      "------------------------------\n",
      "Column: pioglitazone\n"
     ]
    },
    {
     "data": {
      "text/plain": [
       "No        94438\n",
       "Steady     6976\n",
       "Up          234\n",
       "Down        118\n",
       "Name: pioglitazone, dtype: int64"
      ]
     },
     "metadata": {},
     "output_type": "display_data"
    },
    {
     "name": "stdout",
     "output_type": "stream",
     "text": [
      "------------------------------\n",
      "Column: rosiglitazone\n"
     ]
    },
    {
     "data": {
      "text/plain": [
       "No        95401\n",
       "Steady     6100\n",
       "Up          178\n",
       "Down         87\n",
       "Name: rosiglitazone, dtype: int64"
      ]
     },
     "metadata": {},
     "output_type": "display_data"
    },
    {
     "name": "stdout",
     "output_type": "stream",
     "text": [
      "------------------------------\n",
      "Column: acarbose\n"
     ]
    },
    {
     "data": {
      "text/plain": [
       "No        101458\n",
       "Steady       295\n",
       "Up            10\n",
       "Down           3\n",
       "Name: acarbose, dtype: int64"
      ]
     },
     "metadata": {},
     "output_type": "display_data"
    },
    {
     "name": "stdout",
     "output_type": "stream",
     "text": [
      "------------------------------\n",
      "Column: miglitol\n"
     ]
    },
    {
     "data": {
      "text/plain": [
       "No        101728\n",
       "Steady        31\n",
       "Down           5\n",
       "Up             2\n",
       "Name: miglitol, dtype: int64"
      ]
     },
     "metadata": {},
     "output_type": "display_data"
    },
    {
     "name": "stdout",
     "output_type": "stream",
     "text": [
      "------------------------------\n",
      "Column: troglitazone\n"
     ]
    },
    {
     "data": {
      "text/plain": [
       "No        101763\n",
       "Steady         3\n",
       "Name: troglitazone, dtype: int64"
      ]
     },
     "metadata": {},
     "output_type": "display_data"
    },
    {
     "name": "stdout",
     "output_type": "stream",
     "text": [
      "------------------------------\n",
      "Column: tolazamide\n"
     ]
    },
    {
     "data": {
      "text/plain": [
       "No        101727\n",
       "Steady        38\n",
       "Up             1\n",
       "Name: tolazamide, dtype: int64"
      ]
     },
     "metadata": {},
     "output_type": "display_data"
    },
    {
     "name": "stdout",
     "output_type": "stream",
     "text": [
      "------------------------------\n",
      "Column: examide\n"
     ]
    },
    {
     "data": {
      "text/plain": [
       "No    101766\n",
       "Name: examide, dtype: int64"
      ]
     },
     "metadata": {},
     "output_type": "display_data"
    },
    {
     "name": "stdout",
     "output_type": "stream",
     "text": [
      "------------------------------\n",
      "Column: citoglipton\n"
     ]
    },
    {
     "data": {
      "text/plain": [
       "No    101766\n",
       "Name: citoglipton, dtype: int64"
      ]
     },
     "metadata": {},
     "output_type": "display_data"
    },
    {
     "name": "stdout",
     "output_type": "stream",
     "text": [
      "------------------------------\n",
      "Column: insulin\n"
     ]
    },
    {
     "data": {
      "text/plain": [
       "No        47383\n",
       "Steady    30849\n",
       "Down      12218\n",
       "Up        11316\n",
       "Name: insulin, dtype: int64"
      ]
     },
     "metadata": {},
     "output_type": "display_data"
    },
    {
     "name": "stdout",
     "output_type": "stream",
     "text": [
      "------------------------------\n",
      "Column: glyburide-metformin\n"
     ]
    },
    {
     "data": {
      "text/plain": [
       "No        101060\n",
       "Steady       692\n",
       "Up             8\n",
       "Down           6\n",
       "Name: glyburide-metformin, dtype: int64"
      ]
     },
     "metadata": {},
     "output_type": "display_data"
    },
    {
     "name": "stdout",
     "output_type": "stream",
     "text": [
      "------------------------------\n",
      "Column: glipizide-metformin\n"
     ]
    },
    {
     "data": {
      "text/plain": [
       "No        101753\n",
       "Steady        13\n",
       "Name: glipizide-metformin, dtype: int64"
      ]
     },
     "metadata": {},
     "output_type": "display_data"
    },
    {
     "name": "stdout",
     "output_type": "stream",
     "text": [
      "------------------------------\n",
      "Column: glimepiride-pioglitazone\n"
     ]
    },
    {
     "data": {
      "text/plain": [
       "No        101765\n",
       "Steady         1\n",
       "Name: glimepiride-pioglitazone, dtype: int64"
      ]
     },
     "metadata": {},
     "output_type": "display_data"
    },
    {
     "name": "stdout",
     "output_type": "stream",
     "text": [
      "------------------------------\n",
      "Column: metformin-rosiglitazone\n"
     ]
    },
    {
     "data": {
      "text/plain": [
       "No        101764\n",
       "Steady         2\n",
       "Name: metformin-rosiglitazone, dtype: int64"
      ]
     },
     "metadata": {},
     "output_type": "display_data"
    },
    {
     "name": "stdout",
     "output_type": "stream",
     "text": [
      "------------------------------\n",
      "Column: metformin-pioglitazone\n"
     ]
    },
    {
     "data": {
      "text/plain": [
       "No        101765\n",
       "Steady         1\n",
       "Name: metformin-pioglitazone, dtype: int64"
      ]
     },
     "metadata": {},
     "output_type": "display_data"
    },
    {
     "name": "stdout",
     "output_type": "stream",
     "text": [
      "------------------------------\n",
      "Column: change\n"
     ]
    },
    {
     "data": {
      "text/plain": [
       "No    54755\n",
       "Ch    47011\n",
       "Name: change, dtype: int64"
      ]
     },
     "metadata": {},
     "output_type": "display_data"
    },
    {
     "name": "stdout",
     "output_type": "stream",
     "text": [
      "------------------------------\n",
      "Column: diabetesMed\n"
     ]
    },
    {
     "data": {
      "text/plain": [
       "Yes    78363\n",
       "No     23403\n",
       "Name: diabetesMed, dtype: int64"
      ]
     },
     "metadata": {},
     "output_type": "display_data"
    },
    {
     "name": "stdout",
     "output_type": "stream",
     "text": [
      "------------------------------\n",
      "Column: readmitted\n"
     ]
    },
    {
     "data": {
      "text/plain": [
       "NO     54864\n",
       ">30    35545\n",
       "<30    11357\n",
       "Name: readmitted, dtype: int64"
      ]
     },
     "metadata": {},
     "output_type": "display_data"
    },
    {
     "name": "stdout",
     "output_type": "stream",
     "text": [
      "------------------------------\n"
     ]
    }
   ],
   "source": [
    "no_show = ['encounter_id','patient_nbr']\n",
    "for i in df.columns:\n",
    "    if i not in no_show:\n",
    "        print(f'Column: {i}')\n",
    "        display(df[f'{i}'].value_counts(dropna= False))\n",
    "        print('--'*15, end = '\\n')\n",
    "          \n",
    "# df.readmitted.value_counts()"
   ]
  },
  {
   "cell_type": "code",
   "execution_count": 6,
   "id": "63b8c2fa",
   "metadata": {
    "ExecuteTime": {
     "end_time": "2021-11-30T05:32:28.675909Z",
     "start_time": "2021-11-30T05:32:28.673751Z"
    }
   },
   "outputs": [],
   "source": [
    "# Our task is a classification problem so we can use performance metrics like precision, recall, Accuracy and F1-score."
   ]
  },
  {
   "cell_type": "code",
   "execution_count": 7,
   "id": "525df794",
   "metadata": {
    "ExecuteTime": {
     "end_time": "2021-11-30T05:32:29.084453Z",
     "start_time": "2021-11-30T05:32:29.081820Z"
    }
   },
   "outputs": [],
   "source": [
    "# 1)Precision :\n",
    "# Precision is (TP/TP+FP) where TP True Positive and FP is False Positive We can think of precision as out of all points that are predicted as positive points by model how many of them are indeed positive points. Precision is a good measure when False positive cost is high which is the case here in our case study. For a patient which doesn’t need readmission if our model predicts that the patient needs readmission that is False positive then the hospital will keep that patient in the hospital and that increases hospitalization cost.\n",
    "# 2)Recall :\n",
    "# Recall is (TP/TP + FN) where TP is True Positive and FN is False Negative We can think of Recall as out of all points that are actually positive how many of them are predicted to be positive by model. Recall is used when False Negative cost is high that is indeed the case here. For the patient which needs readmission if the model predicts that it doesn’t then the hospital will discharge him but the patient will eventually readmit again and that increases the cost.\n",
    "# 3) Harmonic_F1_Score :\n",
    "# As from above we know that False Negative cost and False Positive cost both are important for us so it would be good if we have a measure which combines both. F1-score does the same for us; it combines Recall and Precision into single equation.\n",
    "# F1_score = (2 * Precision * Recall) /(Precision + Recall)\n",
    "# There is problem of imbalance data in our case. After careful analysis we found that micro, macro F1 score are not useful to deal with imbalanced data. The harmonic mean of precision and recall is taken to deal with trade off between precision and recall. Here, We are in the same situation we want F1_score corresponding to majority class should not dominate our performace metric so we can consider taking harmonic mean of F1_scores of individual classes.\n",
    "# Harmonic_F1_score = (2 * F1_class0 * F1_class1) / (F1_class0 + F1_class1)\n",
    "# 4)AUC :\n",
    "# Normal precision and recall are calculated using single threshold. This single threshold might not classifye all points correctly. AUC is nothing but area under the ROC curve, ROC curve is drawn by calculating FPR and TPR and putting them on x and y axis respectively. So AUC takes all possible thresholds while calculating FPR and TPR lists and hence it reveals us the real power of the model."
   ]
  },
  {
   "cell_type": "markdown",
   "id": "58040374",
   "metadata": {},
   "source": [
    "### Drop Duplicates based on: 'patient_nbr'\n"
   ]
  },
  {
   "cell_type": "code",
   "execution_count": 8,
   "id": "a5a5b1ce",
   "metadata": {
    "ExecuteTime": {
     "end_time": "2021-11-30T05:32:30.799038Z",
     "start_time": "2021-11-30T05:32:30.588266Z"
    }
   },
   "outputs": [
    {
     "name": "stdout",
     "output_type": "stream",
     "text": [
      "Duplicates: 30248\n"
     ]
    }
   ],
   "source": [
    "df.dropna(inplace = True)\n",
    "len_after_rm_duplicates = len(df)\n",
    "df.drop_duplicates(['patient_nbr'], keep = 'first', inplace = True)\n",
    "print(f'Duplicates: {len_after_rm_duplicates - len(df)}')"
   ]
  },
  {
   "cell_type": "markdown",
   "id": "a1e7dd7c",
   "metadata": {},
   "source": [
    "### Converting age feature to numeric\n"
   ]
  },
  {
   "cell_type": "code",
   "execution_count": 9,
   "id": "8a90a3f1",
   "metadata": {
    "ExecuteTime": {
     "end_time": "2021-11-30T05:32:31.548642Z",
     "start_time": "2021-11-30T05:32:31.420221Z"
    }
   },
   "outputs": [],
   "source": [
    "# converting age feature to numeric\n",
    "def replace_age(row):\n",
    "    l_value = int(row.replace('[','').replace(')','').split('-')[0])\n",
    "    h_value = int(row.replace('[','').replace(')','').split('-')[1])\n",
    "    return (l_value + h_value )//2\n",
    "    \n",
    "    \n",
    "df['age'] = df['age'].apply(lambda x : replace_age(x))\n"
   ]
  },
  {
   "cell_type": "markdown",
   "id": "1394dfab",
   "metadata": {},
   "source": [
    "### How Many null values are?\n"
   ]
  },
  {
   "cell_type": "code",
   "execution_count": 10,
   "id": "9295958c",
   "metadata": {
    "ExecuteTime": {
     "end_time": "2021-11-30T05:33:05.195268Z",
     "start_time": "2021-11-30T05:33:05.102633Z"
    }
   },
   "outputs": [
    {
     "data": {
      "text/html": [
       "<div>\n",
       "<style scoped>\n",
       "    .dataframe tbody tr th:only-of-type {\n",
       "        vertical-align: middle;\n",
       "    }\n",
       "\n",
       "    .dataframe tbody tr th {\n",
       "        vertical-align: top;\n",
       "    }\n",
       "\n",
       "    .dataframe thead th {\n",
       "        text-align: right;\n",
       "    }\n",
       "</style>\n",
       "<table border=\"1\" class=\"dataframe\">\n",
       "  <thead>\n",
       "    <tr style=\"text-align: right;\">\n",
       "      <th></th>\n",
       "      <th>column_name</th>\n",
       "      <th>null_values</th>\n",
       "      <th>total_rows</th>\n",
       "      <th>p_null_values</th>\n",
       "    </tr>\n",
       "  </thead>\n",
       "  <tbody>\n",
       "    <tr>\n",
       "      <th>5</th>\n",
       "      <td>weight</td>\n",
       "      <td>68665</td>\n",
       "      <td>71518</td>\n",
       "      <td>96.01</td>\n",
       "    </tr>\n",
       "    <tr>\n",
       "      <th>11</th>\n",
       "      <td>medical_specialty</td>\n",
       "      <td>34477</td>\n",
       "      <td>71518</td>\n",
       "      <td>48.21</td>\n",
       "    </tr>\n",
       "    <tr>\n",
       "      <th>10</th>\n",
       "      <td>payer_code</td>\n",
       "      <td>31043</td>\n",
       "      <td>71518</td>\n",
       "      <td>43.41</td>\n",
       "    </tr>\n",
       "    <tr>\n",
       "      <th>2</th>\n",
       "      <td>race</td>\n",
       "      <td>1948</td>\n",
       "      <td>71518</td>\n",
       "      <td>2.72</td>\n",
       "    </tr>\n",
       "    <tr>\n",
       "      <th>20</th>\n",
       "      <td>diag_3</td>\n",
       "      <td>1225</td>\n",
       "      <td>71518</td>\n",
       "      <td>1.71</td>\n",
       "    </tr>\n",
       "    <tr>\n",
       "      <th>19</th>\n",
       "      <td>diag_2</td>\n",
       "      <td>294</td>\n",
       "      <td>71518</td>\n",
       "      <td>0.41</td>\n",
       "    </tr>\n",
       "    <tr>\n",
       "      <th>18</th>\n",
       "      <td>diag_1</td>\n",
       "      <td>11</td>\n",
       "      <td>71518</td>\n",
       "      <td>0.02</td>\n",
       "    </tr>\n",
       "    <tr>\n",
       "      <th>0</th>\n",
       "      <td>encounter_id</td>\n",
       "      <td>0</td>\n",
       "      <td>71518</td>\n",
       "      <td>0.00</td>\n",
       "    </tr>\n",
       "    <tr>\n",
       "      <th>38</th>\n",
       "      <td>tolazamide</td>\n",
       "      <td>0</td>\n",
       "      <td>71518</td>\n",
       "      <td>0.00</td>\n",
       "    </tr>\n",
       "    <tr>\n",
       "      <th>31</th>\n",
       "      <td>glyburide</td>\n",
       "      <td>0</td>\n",
       "      <td>71518</td>\n",
       "      <td>0.00</td>\n",
       "    </tr>\n",
       "    <tr>\n",
       "      <th>32</th>\n",
       "      <td>tolbutamide</td>\n",
       "      <td>0</td>\n",
       "      <td>71518</td>\n",
       "      <td>0.00</td>\n",
       "    </tr>\n",
       "    <tr>\n",
       "      <th>33</th>\n",
       "      <td>pioglitazone</td>\n",
       "      <td>0</td>\n",
       "      <td>71518</td>\n",
       "      <td>0.00</td>\n",
       "    </tr>\n",
       "    <tr>\n",
       "      <th>34</th>\n",
       "      <td>rosiglitazone</td>\n",
       "      <td>0</td>\n",
       "      <td>71518</td>\n",
       "      <td>0.00</td>\n",
       "    </tr>\n",
       "    <tr>\n",
       "      <th>35</th>\n",
       "      <td>acarbose</td>\n",
       "      <td>0</td>\n",
       "      <td>71518</td>\n",
       "      <td>0.00</td>\n",
       "    </tr>\n",
       "    <tr>\n",
       "      <th>36</th>\n",
       "      <td>miglitol</td>\n",
       "      <td>0</td>\n",
       "      <td>71518</td>\n",
       "      <td>0.00</td>\n",
       "    </tr>\n",
       "    <tr>\n",
       "      <th>37</th>\n",
       "      <td>troglitazone</td>\n",
       "      <td>0</td>\n",
       "      <td>71518</td>\n",
       "      <td>0.00</td>\n",
       "    </tr>\n",
       "    <tr>\n",
       "      <th>40</th>\n",
       "      <td>citoglipton</td>\n",
       "      <td>0</td>\n",
       "      <td>71518</td>\n",
       "      <td>0.00</td>\n",
       "    </tr>\n",
       "    <tr>\n",
       "      <th>39</th>\n",
       "      <td>examide</td>\n",
       "      <td>0</td>\n",
       "      <td>71518</td>\n",
       "      <td>0.00</td>\n",
       "    </tr>\n",
       "    <tr>\n",
       "      <th>29</th>\n",
       "      <td>acetohexamide</td>\n",
       "      <td>0</td>\n",
       "      <td>71518</td>\n",
       "      <td>0.00</td>\n",
       "    </tr>\n",
       "    <tr>\n",
       "      <th>41</th>\n",
       "      <td>insulin</td>\n",
       "      <td>0</td>\n",
       "      <td>71518</td>\n",
       "      <td>0.00</td>\n",
       "    </tr>\n",
       "    <tr>\n",
       "      <th>42</th>\n",
       "      <td>glyburide-metformin</td>\n",
       "      <td>0</td>\n",
       "      <td>71518</td>\n",
       "      <td>0.00</td>\n",
       "    </tr>\n",
       "    <tr>\n",
       "      <th>43</th>\n",
       "      <td>glipizide-metformin</td>\n",
       "      <td>0</td>\n",
       "      <td>71518</td>\n",
       "      <td>0.00</td>\n",
       "    </tr>\n",
       "    <tr>\n",
       "      <th>44</th>\n",
       "      <td>glimepiride-pioglitazone</td>\n",
       "      <td>0</td>\n",
       "      <td>71518</td>\n",
       "      <td>0.00</td>\n",
       "    </tr>\n",
       "    <tr>\n",
       "      <th>45</th>\n",
       "      <td>metformin-rosiglitazone</td>\n",
       "      <td>0</td>\n",
       "      <td>71518</td>\n",
       "      <td>0.00</td>\n",
       "    </tr>\n",
       "    <tr>\n",
       "      <th>46</th>\n",
       "      <td>metformin-pioglitazone</td>\n",
       "      <td>0</td>\n",
       "      <td>71518</td>\n",
       "      <td>0.00</td>\n",
       "    </tr>\n",
       "    <tr>\n",
       "      <th>47</th>\n",
       "      <td>change</td>\n",
       "      <td>0</td>\n",
       "      <td>71518</td>\n",
       "      <td>0.00</td>\n",
       "    </tr>\n",
       "    <tr>\n",
       "      <th>48</th>\n",
       "      <td>diabetesMed</td>\n",
       "      <td>0</td>\n",
       "      <td>71518</td>\n",
       "      <td>0.00</td>\n",
       "    </tr>\n",
       "    <tr>\n",
       "      <th>30</th>\n",
       "      <td>glipizide</td>\n",
       "      <td>0</td>\n",
       "      <td>71518</td>\n",
       "      <td>0.00</td>\n",
       "    </tr>\n",
       "    <tr>\n",
       "      <th>25</th>\n",
       "      <td>repaglinide</td>\n",
       "      <td>0</td>\n",
       "      <td>71518</td>\n",
       "      <td>0.00</td>\n",
       "    </tr>\n",
       "    <tr>\n",
       "      <th>28</th>\n",
       "      <td>glimepiride</td>\n",
       "      <td>0</td>\n",
       "      <td>71518</td>\n",
       "      <td>0.00</td>\n",
       "    </tr>\n",
       "    <tr>\n",
       "      <th>14</th>\n",
       "      <td>num_medications</td>\n",
       "      <td>0</td>\n",
       "      <td>71518</td>\n",
       "      <td>0.00</td>\n",
       "    </tr>\n",
       "    <tr>\n",
       "      <th>3</th>\n",
       "      <td>gender</td>\n",
       "      <td>0</td>\n",
       "      <td>71518</td>\n",
       "      <td>0.00</td>\n",
       "    </tr>\n",
       "    <tr>\n",
       "      <th>4</th>\n",
       "      <td>age</td>\n",
       "      <td>0</td>\n",
       "      <td>71518</td>\n",
       "      <td>0.00</td>\n",
       "    </tr>\n",
       "    <tr>\n",
       "      <th>6</th>\n",
       "      <td>admission_type_id</td>\n",
       "      <td>0</td>\n",
       "      <td>71518</td>\n",
       "      <td>0.00</td>\n",
       "    </tr>\n",
       "    <tr>\n",
       "      <th>7</th>\n",
       "      <td>discharge_disposition_id</td>\n",
       "      <td>0</td>\n",
       "      <td>71518</td>\n",
       "      <td>0.00</td>\n",
       "    </tr>\n",
       "    <tr>\n",
       "      <th>8</th>\n",
       "      <td>admission_source_id</td>\n",
       "      <td>0</td>\n",
       "      <td>71518</td>\n",
       "      <td>0.00</td>\n",
       "    </tr>\n",
       "    <tr>\n",
       "      <th>9</th>\n",
       "      <td>time_in_hospital</td>\n",
       "      <td>0</td>\n",
       "      <td>71518</td>\n",
       "      <td>0.00</td>\n",
       "    </tr>\n",
       "    <tr>\n",
       "      <th>12</th>\n",
       "      <td>num_lab_procedures</td>\n",
       "      <td>0</td>\n",
       "      <td>71518</td>\n",
       "      <td>0.00</td>\n",
       "    </tr>\n",
       "    <tr>\n",
       "      <th>13</th>\n",
       "      <td>num_procedures</td>\n",
       "      <td>0</td>\n",
       "      <td>71518</td>\n",
       "      <td>0.00</td>\n",
       "    </tr>\n",
       "    <tr>\n",
       "      <th>15</th>\n",
       "      <td>number_outpatient</td>\n",
       "      <td>0</td>\n",
       "      <td>71518</td>\n",
       "      <td>0.00</td>\n",
       "    </tr>\n",
       "    <tr>\n",
       "      <th>27</th>\n",
       "      <td>chlorpropamide</td>\n",
       "      <td>0</td>\n",
       "      <td>71518</td>\n",
       "      <td>0.00</td>\n",
       "    </tr>\n",
       "    <tr>\n",
       "      <th>16</th>\n",
       "      <td>number_emergency</td>\n",
       "      <td>0</td>\n",
       "      <td>71518</td>\n",
       "      <td>0.00</td>\n",
       "    </tr>\n",
       "    <tr>\n",
       "      <th>17</th>\n",
       "      <td>number_inpatient</td>\n",
       "      <td>0</td>\n",
       "      <td>71518</td>\n",
       "      <td>0.00</td>\n",
       "    </tr>\n",
       "    <tr>\n",
       "      <th>21</th>\n",
       "      <td>number_diagnoses</td>\n",
       "      <td>0</td>\n",
       "      <td>71518</td>\n",
       "      <td>0.00</td>\n",
       "    </tr>\n",
       "    <tr>\n",
       "      <th>22</th>\n",
       "      <td>max_glu_serum</td>\n",
       "      <td>0</td>\n",
       "      <td>71518</td>\n",
       "      <td>0.00</td>\n",
       "    </tr>\n",
       "    <tr>\n",
       "      <th>23</th>\n",
       "      <td>A1Cresult</td>\n",
       "      <td>0</td>\n",
       "      <td>71518</td>\n",
       "      <td>0.00</td>\n",
       "    </tr>\n",
       "    <tr>\n",
       "      <th>24</th>\n",
       "      <td>metformin</td>\n",
       "      <td>0</td>\n",
       "      <td>71518</td>\n",
       "      <td>0.00</td>\n",
       "    </tr>\n",
       "    <tr>\n",
       "      <th>1</th>\n",
       "      <td>patient_nbr</td>\n",
       "      <td>0</td>\n",
       "      <td>71518</td>\n",
       "      <td>0.00</td>\n",
       "    </tr>\n",
       "    <tr>\n",
       "      <th>26</th>\n",
       "      <td>nateglinide</td>\n",
       "      <td>0</td>\n",
       "      <td>71518</td>\n",
       "      <td>0.00</td>\n",
       "    </tr>\n",
       "    <tr>\n",
       "      <th>49</th>\n",
       "      <td>readmitted</td>\n",
       "      <td>0</td>\n",
       "      <td>71518</td>\n",
       "      <td>0.00</td>\n",
       "    </tr>\n",
       "  </tbody>\n",
       "</table>\n",
       "</div>"
      ],
      "text/plain": [
       "                 column_name  null_values  total_rows  p_null_values\n",
       "5                     weight        68665       71518          96.01\n",
       "11         medical_specialty        34477       71518          48.21\n",
       "10                payer_code        31043       71518          43.41\n",
       "2                       race         1948       71518           2.72\n",
       "20                    diag_3         1225       71518           1.71\n",
       "19                    diag_2          294       71518           0.41\n",
       "18                    diag_1           11       71518           0.02\n",
       "0               encounter_id            0       71518           0.00\n",
       "38                tolazamide            0       71518           0.00\n",
       "31                 glyburide            0       71518           0.00\n",
       "32               tolbutamide            0       71518           0.00\n",
       "33              pioglitazone            0       71518           0.00\n",
       "34             rosiglitazone            0       71518           0.00\n",
       "35                  acarbose            0       71518           0.00\n",
       "36                  miglitol            0       71518           0.00\n",
       "37              troglitazone            0       71518           0.00\n",
       "40               citoglipton            0       71518           0.00\n",
       "39                   examide            0       71518           0.00\n",
       "29             acetohexamide            0       71518           0.00\n",
       "41                   insulin            0       71518           0.00\n",
       "42       glyburide-metformin            0       71518           0.00\n",
       "43       glipizide-metformin            0       71518           0.00\n",
       "44  glimepiride-pioglitazone            0       71518           0.00\n",
       "45   metformin-rosiglitazone            0       71518           0.00\n",
       "46    metformin-pioglitazone            0       71518           0.00\n",
       "47                    change            0       71518           0.00\n",
       "48               diabetesMed            0       71518           0.00\n",
       "30                 glipizide            0       71518           0.00\n",
       "25               repaglinide            0       71518           0.00\n",
       "28               glimepiride            0       71518           0.00\n",
       "14           num_medications            0       71518           0.00\n",
       "3                     gender            0       71518           0.00\n",
       "4                        age            0       71518           0.00\n",
       "6          admission_type_id            0       71518           0.00\n",
       "7   discharge_disposition_id            0       71518           0.00\n",
       "8        admission_source_id            0       71518           0.00\n",
       "9           time_in_hospital            0       71518           0.00\n",
       "12        num_lab_procedures            0       71518           0.00\n",
       "13            num_procedures            0       71518           0.00\n",
       "15         number_outpatient            0       71518           0.00\n",
       "27            chlorpropamide            0       71518           0.00\n",
       "16          number_emergency            0       71518           0.00\n",
       "17          number_inpatient            0       71518           0.00\n",
       "21          number_diagnoses            0       71518           0.00\n",
       "22             max_glu_serum            0       71518           0.00\n",
       "23                 A1Cresult            0       71518           0.00\n",
       "24                 metformin            0       71518           0.00\n",
       "1                patient_nbr            0       71518           0.00\n",
       "26               nateglinide            0       71518           0.00\n",
       "49                readmitted            0       71518           0.00"
      ]
     },
     "execution_count": 10,
     "metadata": {},
     "output_type": "execute_result"
    }
   ],
   "source": [
    "df_replace_question = df.replace('?',np.nan)\n",
    "null_values = df_replace_question.isnull().sum().to_frame().reset_index()\n",
    "null_values.columns = ['column_name','null_values']\n",
    "null_values['total_rows'] = int(len(df_replace_question))\n",
    "null_values['p_null_values'] = round((null_values['null_values']/null_values['total_rows'])*100,2)\n",
    "null_values.sort_values(by = ['p_null_values'], inplace = True, ascending = False)\n",
    "null_values"
   ]
  },
  {
   "cell_type": "markdown",
   "id": "3d102ff7",
   "metadata": {},
   "source": [
    "* <b>'weight'</b> feature has lots of missing values (96%) so -> <b>GOOD BYE</b><br/>\n",
    "* For all 'Diagnosis' features we can use most common value to fill missing value\n",
    "* For 'medical_specialty' i decide to fill nan with 'no information'"
   ]
  },
  {
   "cell_type": "markdown",
   "id": "296cad76",
   "metadata": {
    "ExecuteTime": {
     "end_time": "2021-11-30T03:07:32.438941Z",
     "start_time": "2021-11-30T03:07:32.430122Z"
    }
   },
   "source": [
    "### Sayonara 'weight' and Unknown/Invalid gender\n"
   ]
  },
  {
   "cell_type": "code",
   "execution_count": 11,
   "id": "e0df63e0",
   "metadata": {
    "ExecuteTime": {
     "end_time": "2021-11-30T05:33:05.633111Z",
     "start_time": "2021-11-30T05:33:05.596028Z"
    }
   },
   "outputs": [],
   "source": [
    "df = df[~(df.gender == 'Unknown/Invalid')]"
   ]
  },
  {
   "cell_type": "code",
   "execution_count": 12,
   "id": "656fb0a6",
   "metadata": {
    "ExecuteTime": {
     "end_time": "2021-11-30T05:33:05.776201Z",
     "start_time": "2021-11-30T05:33:05.761122Z"
    },
    "scrolled": true
   },
   "outputs": [],
   "source": [
    "del df['weight']"
   ]
  },
  {
   "cell_type": "markdown",
   "id": "14be98b0",
   "metadata": {},
   "source": [
    "### Get the most common value for 'Diagnosis'"
   ]
  },
  {
   "cell_type": "code",
   "execution_count": 13,
   "id": "a9d3b435",
   "metadata": {
    "ExecuteTime": {
     "end_time": "2021-11-30T05:33:06.983714Z",
     "start_time": "2021-11-30T05:33:06.905279Z"
    }
   },
   "outputs": [],
   "source": [
    "diag_1 = df['diag_1'].mode()[0]\n",
    "diag_2 = df['diag_2'].mode()[0]\n",
    "diag_3 = df['diag_3'].mode()[0]\n",
    "df['diag_1'] = df['diag_1'].apply(lambda x : str(x).replace('?',diag_1))\n",
    "df['diag_2'] = df['diag_1'].apply(lambda x : str(x).replace('?',diag_2))\n",
    "df['diag_3'] = df['diag_3'].apply(lambda x : str(x).replace('?',diag_3))"
   ]
  },
  {
   "cell_type": "markdown",
   "id": "51c32568",
   "metadata": {
    "ExecuteTime": {
     "end_time": "2021-11-30T03:30:30.843972Z",
     "start_time": "2021-11-30T03:30:30.827799Z"
    }
   },
   "source": [
    "### 'medical_specialty' nan to 'no information'"
   ]
  },
  {
   "cell_type": "code",
   "execution_count": 14,
   "id": "cf2b598c",
   "metadata": {
    "ExecuteTime": {
     "end_time": "2021-11-30T05:33:07.627955Z",
     "start_time": "2021-11-30T05:33:07.621546Z"
    }
   },
   "outputs": [],
   "source": [
    "df['medical_specialty'].fillna('no information', inplace = True)"
   ]
  },
  {
   "cell_type": "markdown",
   "id": "6e84b76b",
   "metadata": {},
   "source": [
    "### Get rid Race nan"
   ]
  },
  {
   "cell_type": "code",
   "execution_count": 15,
   "id": "3459a1b8",
   "metadata": {
    "ExecuteTime": {
     "end_time": "2021-11-30T05:33:08.597465Z",
     "start_time": "2021-11-30T05:33:08.565848Z"
    }
   },
   "outputs": [],
   "source": [
    "df.dropna(subset = ['race'], inplace = True)"
   ]
  },
  {
   "cell_type": "markdown",
   "id": "7be106ea",
   "metadata": {},
   "source": [
    "### Get rid unnecessary features ‘encounter_id’, ‘patient_nbr’, 'payer_code'"
   ]
  },
  {
   "cell_type": "code",
   "execution_count": 16,
   "id": "b2637fb5",
   "metadata": {
    "ExecuteTime": {
     "end_time": "2021-11-30T05:33:08.946000Z",
     "start_time": "2021-11-30T05:33:08.928764Z"
    }
   },
   "outputs": [],
   "source": [
    "features_drop_list = ['encounter_id', 'patient_nbr','payer_code', 'medical_specialty', 'repaglinide', 'nateglinide', 'chlorpropamide', 'acarbose', 'miglitol', 'troglitazone', 'tolazamide', 'examide', 'citoglipton', 'glyburide-metformin', 'glipizide-metformin', 'glimepiride-pioglitazone', 'metformin-rosiglitazone','metformin-pioglitazone', 'acetohexamide', 'tolbutamide']\n",
    "df.drop(features_drop_list, axis=1,inplace=True)"
   ]
  },
  {
   "cell_type": "markdown",
   "id": "fefec4be",
   "metadata": {},
   "source": [
    "### Gender ,diabetesMed string to dummy"
   ]
  },
  {
   "cell_type": "code",
   "execution_count": 17,
   "id": "e722fba7",
   "metadata": {
    "ExecuteTime": {
     "end_time": "2021-11-30T05:33:09.274652Z",
     "start_time": "2021-11-30T05:33:09.243646Z"
    }
   },
   "outputs": [],
   "source": [
    "df['gender'] = df['gender'].replace('Male', 1)\n",
    "df['gender'] = df['gender'].replace('Female', 0)"
   ]
  },
  {
   "cell_type": "code",
   "execution_count": 18,
   "id": "86539df0",
   "metadata": {
    "ExecuteTime": {
     "end_time": "2021-11-30T05:33:09.431970Z",
     "start_time": "2021-11-30T05:33:09.401142Z"
    }
   },
   "outputs": [],
   "source": [
    "df['diabetesMed']=df['diabetesMed'].replace('Yes', 1)\n",
    "df['diabetesMed']=df['diabetesMed'].replace('No', 0)"
   ]
  },
  {
   "cell_type": "markdown",
   "id": "62cf908f",
   "metadata": {},
   "source": [
    "### Feature Engineering \n",
    "* Transformation readmitted: predict variable\n",
    "* Transformation categorical variables ('up' , 'down', 'steady' etc) to numerical"
   ]
  },
  {
   "cell_type": "code",
   "execution_count": 19,
   "id": "d1f78fe6",
   "metadata": {
    "ExecuteTime": {
     "end_time": "2021-11-30T05:33:09.774422Z",
     "start_time": "2021-11-30T05:33:09.743293Z"
    }
   },
   "outputs": [],
   "source": [
    "df['readmitted'] = df['readmitted'].apply(lambda x : 0 if (x == '>30' or x == 'NO') else 1)\n"
   ]
  },
  {
   "cell_type": "code",
   "execution_count": 20,
   "id": "c4d6674b",
   "metadata": {
    "ExecuteTime": {
     "end_time": "2021-11-30T05:33:10.907749Z",
     "start_time": "2021-11-30T05:33:10.572082Z"
    }
   },
   "outputs": [],
   "source": [
    "def up_down_transf(row):\n",
    "    \n",
    "    if row == 'Up':\n",
    "        return 3\n",
    "    elif row == 'Down':\n",
    "        return 1\n",
    "    elif row == 'Steady':\n",
    "        return 2\n",
    "    else:\n",
    "        return -0\n",
    "\n",
    "def max_glu_trasnf(row):\n",
    "    if row == '>200':\n",
    "        return 2\n",
    "    elif row == '>300':\n",
    "        return 3\n",
    "    elif row == 'Norm':\n",
    "        return 1\n",
    "    else:\n",
    "        return 0\n",
    "\n",
    "\n",
    "def a1cresult_trasnf(row):\n",
    "    \n",
    "    if row == '>7':\n",
    "        return 2\n",
    "    elif row == '>8':\n",
    "        return 3\n",
    "    elif row == 'Norm':\n",
    "        return 1\n",
    "    else:\n",
    "        return 0\n",
    "    \n",
    "    \n",
    "for col in [\"metformin\",  \"glimepiride\",  \"glipizide\", \"glyburide\", \"pioglitazone\", \"rosiglitazone\",\"insulin\"]:\n",
    "    df[col] = df[col].apply(lambda x : up_down_transf(x))\n",
    "\n",
    "\n",
    "df['change'] = df['change'].apply(lambda x : 1 if x == 'Ch'else 0)\n",
    "\n",
    "\n",
    "df['diabetesMed'] = df['diabetesMed'].apply(lambda x : 0 if x == 'No'else 1)\n",
    "\n",
    "\n",
    "df['max_glu_serum'] = df['max_glu_serum'].apply(lambda x : max_glu_trasnf(x))\n",
    "\n",
    "df['A1Cresult'] = df['A1Cresult'].apply(lambda x : a1cresult_trasnf(x))"
   ]
  },
  {
   "cell_type": "markdown",
   "id": "666189d1",
   "metadata": {},
   "source": [
    "### imbalanced Data?\n",
    "# Spoiler: YES!"
   ]
  },
  {
   "cell_type": "code",
   "execution_count": 21,
   "id": "e6f30e3c",
   "metadata": {
    "ExecuteTime": {
     "end_time": "2021-11-30T05:33:11.151040Z",
     "start_time": "2021-11-30T05:33:11.000950Z"
    }
   },
   "outputs": [
    {
     "data": {
      "text/plain": [
       "<Figure size 432x288 with 0 Axes>"
      ]
     },
     "execution_count": 21,
     "metadata": {},
     "output_type": "execute_result"
    },
    {
     "data": {
      "image/png": "[encoded data removed]",
      "text/plain": [
       "<Figure size 432x288 with 1 Axes>"
      ]
     },
     "metadata": {},
     "output_type": "display_data"
    },
    {
     "data": {
      "text/plain": [
       "<Figure size 432x288 with 0 Axes>"
      ]
     },
     "metadata": {},
     "output_type": "display_data"
    }
   ],
   "source": [
    "# plt.figure()\n",
    "sns.set_theme(style=\"whitegrid\")\n",
    "ax = sns.countplot(x = 'readmitted', data = df, hue = 'readmitted')\n",
    "handles, labels = ax.get_legend_handles_labels()\n",
    "ax.legend(handles, labels = ['Not Admitted', 'Admitted'])\n",
    "plt.figure()"
   ]
  },
  {
   "cell_type": "code",
   "execution_count": 97,
   "id": "53b50ae5",
   "metadata": {},
   "outputs": [
    {
     "data": {
      "text/plain": [
       "0    65222\n",
       "1     6293\n",
       "Name: readmitted, dtype: int64"
      ]
     },
     "execution_count": 97,
     "metadata": {},
     "output_type": "execute_result"
    }
   ],
   "source": [
    "df['readmitted'].value_counts(dropna=False)"
   ]
  },
  {
   "cell_type": "markdown",
   "id": "4b42c812",
   "metadata": {},
   "source": [
    "### RESEARCH"
   ]
  },
  {
   "cell_type": "code",
   "execution_count": null,
   "id": "c27ee257",
   "metadata": {
    "ExecuteTime": {
     "end_time": "2021-11-30T05:33:11.364468Z",
     "start_time": "2021-11-30T05:33:11.361839Z"
    }
   },
   "outputs": [],
   "source": [
    "# They are coded in ICD-9 code (https://en.wikipedia.org/wiki/List_of_ICD-9_codes), resulting in hundreds of distinct categories. One way to simplify this, is by grouping every ICD-9 code value into one of 18 generic health problems, depending on the first 3 digits as following:\n",
    "\n",
    "# List of ICD-9 codes 001–139: infectious and parasitic diseases\n",
    "# List of ICD-9 codes 140–239: neoplasms\n",
    "# List of ICD-9 codes 240–279: endocrine, nutritional and metabolic diseases, and immunity disorders\n",
    "# List of ICD-9 codes 280–289: diseases of the blood and blood-forming organs\n",
    "# List of ICD-9 codes 290–319: mental disorders\n",
    "# List of ICD-9 codes 320–389: diseases of the nervous system and sense organs\n",
    "# List of ICD-9 codes 390–459: diseases of the circulatory system\n",
    "# List of ICD-9 codes 460–519: diseases of the respiratory system\n",
    "# List of ICD-9 codes 520–579: diseases of the digestive system\n",
    "# List of ICD-9 codes 580–629: diseases of the genitourinary system\n",
    "# List of ICD-9 codes 630–679: complications of pregnancy, childbirth, and the puerperium\n",
    "# List of ICD-9 codes 680–709: diseases of the skin and subcutaneous tissue\n",
    "# List of ICD-9 codes 710–739: diseases of the musculoskeletal system and connective tissue\n",
    "# List of ICD-9 codes 740–759: congenital anomalies\n",
    "# List of ICD-9 codes 760–779: certain conditions originating in the perinatal period\n",
    "# List of ICD-9 codes 780–799: symptoms, signs, and ill-defined conditions\n",
    "# List of ICD-9 codes 800–999: injury and poisoning\n",
    "# List of ICD-9 codes E and V codes: external causes of injury and supplemental classification"
   ]
  },
  {
   "cell_type": "code",
   "execution_count": 22,
   "id": "b1b736d9",
   "metadata": {
    "ExecuteTime": {
     "end_time": "2021-11-30T05:33:47.072419Z",
     "start_time": "2021-11-30T05:33:46.732047Z"
    }
   },
   "outputs": [],
   "source": [
    "#start by setting all values containing E or V into 0 (as one category)\n",
    "df.loc[df['diag_1'].str.contains('V',na=False,case=False), 'diag_1'] = 0\n",
    "df.loc[df['diag_1'].str.contains('E',na=False,case=False), 'diag_1'] = 0\n",
    "df.loc[df['diag_2'].str.contains('V',na=False,case=False), 'diag_2'] = 0\n",
    "df.loc[df['diag_2'].str.contains('E',na=False,case=False), 'diag_2'] = 0\n",
    "df.loc[df['diag_3'].str.contains('V',na=False,case=False), 'diag_3'] = 0\n",
    "df.loc[df['diag_3'].str.contains('E',na=False,case=False), 'diag_3'] = 0\n",
    "\n",
    "#setting all missing values into -1\n",
    "df['diag_1'] = df['diag_1'].replace('?',-1)\n",
    "df['diag_2'] = df['diag_2'].replace('?',-1)\n",
    "df['diag_3'] = df['diag_3'].replace('?',-1)\n",
    "df['diag_1'] = df['diag_1'].astype(float)\n",
    "df['diag_2'] = df['diag_2'].astype(float)\n",
    "df['diag_3'] = df['diag_3'].astype(float)\n",
    "\n",
    "# Now we will reduce the number of categories in diag features according to ICD-9 code\n",
    "#(Missing values will be grouped as E & V values)\n",
    "df['diag_1'].loc[(df['diag_1']>=1) & (df['diag_1']< 140)] = 1\n",
    "df['diag_1'].loc[(df['diag_1']>=140) & (df['diag_1']< 240)] = 2\n",
    "df['diag_1'].loc[(df['diag_1']>=240) & (df['diag_1']< 280)] = 3\n",
    "df['diag_1'].loc[(df['diag_1']>=280) & (df['diag_1']< 290)] = 4\n",
    "df['diag_1'].loc[(df['diag_1']>=290) & (df['diag_1']< 320)] = 5\n",
    "df['diag_1'].loc[(df['diag_1']>=320) & (df['diag_1']< 390)] = 6\n",
    "df['diag_1'].loc[(df['diag_1']>=390) & (df['diag_1']< 460)] = 7\n",
    "df['diag_1'].loc[(df['diag_1']>=460) & (df['diag_1']< 520)] = 8\n",
    "df['diag_1'].loc[(df['diag_1']>=520) & (df['diag_1']< 580)] = 9\n",
    "df['diag_1'].loc[(df['diag_1']>=580) & (df['diag_1']< 630)] = 10\n",
    "df['diag_1'].loc[(df['diag_1']>=630) & (df['diag_1']< 680)] = 11\n",
    "df['diag_1'].loc[(df['diag_1']>=680) & (df['diag_1']< 710)] = 12\n",
    "df['diag_1'].loc[(df['diag_1']>=710) & (df['diag_1']< 740)] = 13\n",
    "df['diag_1'].loc[(df['diag_1']>=740) & (df['diag_1']< 760)] = 14\n",
    "df['diag_1'].loc[(df['diag_1']>=760) & (df['diag_1']< 780)] = 15\n",
    "df['diag_1'].loc[(df['diag_1']>=780) & (df['diag_1']< 800)] = 16\n",
    "df['diag_1'].loc[(df['diag_1']>=800) & (df['diag_1']< 1000)] = 17\n",
    "df['diag_1'].loc[(df['diag_1']==-1)] = 0\n",
    "\n",
    "df['diag_2'].loc[(df['diag_2']>=1) & (df['diag_2']< 140)] = 1\n",
    "df['diag_2'].loc[(df['diag_2']>=140) & (df['diag_2']< 240)] = 2\n",
    "df['diag_2'].loc[(df['diag_2']>=240) & (df['diag_2']< 280)] = 3\n",
    "df['diag_2'].loc[(df['diag_2']>=280) & (df['diag_2']< 290)] = 4\n",
    "df['diag_2'].loc[(df['diag_2']>=290) & (df['diag_2']< 320)] = 5\n",
    "df['diag_2'].loc[(df['diag_2']>=320) & (df['diag_2']< 390)] = 6\n",
    "df['diag_2'].loc[(df['diag_2']>=390) & (df['diag_2']< 460)] = 7\n",
    "df['diag_2'].loc[(df['diag_2']>=460) & (df['diag_2']< 520)] = 8\n",
    "df['diag_2'].loc[(df['diag_2']>=520) & (df['diag_2']< 580)] = 9\n",
    "df['diag_2'].loc[(df['diag_2']>=580) & (df['diag_2']< 630)] = 10\n",
    "df['diag_2'].loc[(df['diag_2']>=630) & (df['diag_2']< 680)] = 11\n",
    "df['diag_2'].loc[(df['diag_2']>=680) & (df['diag_2']< 710)] = 12\n",
    "df['diag_2'].loc[(df['diag_2']>=710) & (df['diag_2']< 740)] = 13\n",
    "df['diag_2'].loc[(df['diag_2']>=740) & (df['diag_2']< 760)] = 14\n",
    "df['diag_2'].loc[(df['diag_2']>=760) & (df['diag_2']< 780)] = 15\n",
    "df['diag_2'].loc[(df['diag_2']>=780) & (df['diag_2']< 800)] = 16\n",
    "df['diag_2'].loc[(df['diag_2']>=800) & (df['diag_2']< 1000)] = 17\n",
    "df['diag_2'].loc[(df['diag_2']==-1)] = 0\n",
    "\n",
    "df['diag_3'].loc[(df['diag_3']>=1) & (df['diag_3']< 140)] = 1\n",
    "df['diag_3'].loc[(df['diag_3']>=140) & (df['diag_3']< 240)] = 2\n",
    "df['diag_3'].loc[(df['diag_3']>=240) & (df['diag_3']< 280)] = 3\n",
    "df['diag_3'].loc[(df['diag_3']>=280) & (df['diag_3']< 290)] = 4\n",
    "df['diag_3'].loc[(df['diag_3']>=290) & (df['diag_3']< 320)] = 5\n",
    "df['diag_3'].loc[(df['diag_3']>=320) & (df['diag_3']< 390)] = 6\n",
    "df['diag_3'].loc[(df['diag_3']>=390) & (df['diag_3']< 460)] = 7\n",
    "df['diag_3'].loc[(df['diag_3']>=460) & (df['diag_3']< 520)] = 8\n",
    "df['diag_3'].loc[(df['diag_3']>=520) & (df['diag_3']< 580)] = 9\n",
    "df['diag_3'].loc[(df['diag_3']>=580) & (df['diag_3']< 630)] = 10\n",
    "df['diag_3'].loc[(df['diag_3']>=630) & (df['diag_3']< 680)] = 11\n",
    "df['diag_3'].loc[(df['diag_3']>=680) & (df['diag_3']< 710)] = 12\n",
    "df['diag_3'].loc[(df['diag_3']>=710) & (df['diag_3']< 740)] = 13\n",
    "df['diag_3'].loc[(df['diag_3']>=740) & (df['diag_3']< 760)] = 14\n",
    "df['diag_3'].loc[(df['diag_3']>=760) & (df['diag_3']< 780)] = 15\n",
    "df['diag_3'].loc[(df['diag_3']>=780) & (df['diag_3']< 800)] = 16\n",
    "df['diag_3'].loc[(df['diag_3']>=800) & (df['diag_3']< 1000)] = 17\n",
    "df['diag_3'].loc[(df['diag_3']==-1)] = 0"
   ]
  },
  {
   "cell_type": "code",
   "execution_count": 23,
   "id": "df0b5ade",
   "metadata": {
    "ExecuteTime": {
     "end_time": "2021-11-30T05:33:48.306638Z",
     "start_time": "2021-11-30T05:33:48.170996Z"
    }
   },
   "outputs": [
    {
     "name": "stdout",
     "output_type": "stream",
     "text": [
      "0.5346920045915386 gender is not significant\n",
      "0.01750064068640562 admission_type_id is significant\n",
      "1.3232043949603843e-295 discharge_disposition_id is significant\n",
      "0.36205128123276453 admission_source_id is significant\n",
      "3.131780022573835e-22 diag_1 is significant\n",
      "3.131780022573835e-22 diag_2 is significant\n",
      "3.407310052111208e-10 diag_3 is significant\n",
      "0.0 readmitted is significant\n"
     ]
    }
   ],
   "source": [
    "categorical_features = ['gender', 'admission_type_id', 'discharge_disposition_id', 'admission_source_id','diag_1', 'diag_2', 'diag_3', 'readmitted']\n",
    "rejected_features = []\n",
    "for col in categorical_features : \n",
    "    df_crosstab = pd.crosstab(df['readmitted'],  df[col], margins = False) \n",
    "\n",
    "    stat, p, dof, expected = scipy.stats.chi2_contingency(df_crosstab)\n",
    "    if p < 0.4 :\n",
    "        print(p, col, 'is significant')\n",
    "    else:\n",
    "        print(p, col, 'is not significant')\n",
    "        rejected_features.append(col)"
   ]
  },
  {
   "cell_type": "code",
   "execution_count": 24,
   "id": "369d85c6",
   "metadata": {
    "ExecuteTime": {
     "end_time": "2021-11-30T05:33:49.051833Z",
     "start_time": "2021-11-30T05:33:48.912515Z"
    }
   },
   "outputs": [
    {
     "name": "stdout",
     "output_type": "stream",
     "text": [
      "age is significant\n",
      "time_in_hospital is significant\n",
      "num_lab_procedures is significant\n",
      "num_procedures is not significant\n",
      "num_medications is significant\n",
      "number_outpatient is significant\n",
      "number_emergency is significant\n",
      "number_inpatient is significant\n",
      "number_diagnoses is significant\n",
      "A1Cresult is significant\n",
      "max_glu_serum is significant\n",
      "metformin is significant\n",
      "glimepiride is not significant\n",
      "glipizide is significant\n",
      "glyburide is significant\n",
      "pioglitazone is not significant\n",
      "rosiglitazone is not significant\n",
      "insulin is significant\n",
      "change is significant\n",
      "diabetesMed is not significant\n"
     ]
    }
   ],
   "source": [
    "numeric_features = ['age','time_in_hospital', 'num_lab_procedures', 'num_procedures', 'num_medications', 'number_outpatient', 'number_emergency', 'number_inpatient', 'number_diagnoses', 'A1Cresult','max_glu_serum','metformin','glimepiride','glipizide','glyburide','pioglitazone','rosiglitazone','insulin', 'change', 'diabetesMed']\n",
    "\n",
    "for col in numeric_features :\n",
    "    rho , pval = scipy.stats.spearmanr(df['readmitted'], df[col])\n",
    "    if pval < 0.4 : \n",
    "        print(col, 'is significant')\n",
    "    else : \n",
    "        print(col, 'is not significant')\n",
    "        rejected_features.append(col)"
   ]
  },
  {
   "cell_type": "code",
   "execution_count": null,
   "id": "de5538b7",
   "metadata": {
    "ExecuteTime": {
     "end_time": "2021-11-30T05:33:49.432103Z",
     "start_time": "2021-11-30T05:33:49.428213Z"
    }
   },
   "outputs": [],
   "source": [
    "rejected_features"
   ]
  },
  {
   "cell_type": "markdown",
   "id": "7d8adb87",
   "metadata": {},
   "source": [
    "### EDA according to features"
   ]
  },
  {
   "cell_type": "markdown",
   "id": "77da80a8",
   "metadata": {},
   "source": [
    "#### Clearly if discharge disposition id is 1,2,6 and 22 the patient will readmit."
   ]
  },
  {
   "cell_type": "code",
   "execution_count": null,
   "id": "387c75e6",
   "metadata": {
    "ExecuteTime": {
     "end_time": "2021-11-30T05:33:51.017919Z",
     "start_time": "2021-11-30T05:33:50.623048Z"
    }
   },
   "outputs": [],
   "source": [
    "fig = plt.figure(figsize = (10, 5))\n",
    "sns.countplot(x  = 'discharge_disposition_id', data = df, hue = 'readmitted')"
   ]
  },
  {
   "cell_type": "markdown",
   "id": "24446589",
   "metadata": {},
   "source": [
    "####  If patient has not admitted in the past or admitted very few times the chance that he will readmit is very low"
   ]
  },
  {
   "cell_type": "code",
   "execution_count": null,
   "id": "2c6cb495",
   "metadata": {
    "ExecuteTime": {
     "end_time": "2021-11-30T05:33:51.462266Z",
     "start_time": "2021-11-30T05:33:51.196340Z"
    }
   },
   "outputs": [],
   "source": [
    "fig = plt.figure(figsize = (10, 5)) \n",
    "sns.countplot(x  = 'number_inpatient', data = df, hue = 'readmitted')\n"
   ]
  },
  {
   "cell_type": "code",
   "execution_count": null,
   "id": "b1b8aa34",
   "metadata": {
    "ExecuteTime": {
     "end_time": "2021-11-30T05:33:51.785100Z",
     "start_time": "2021-11-30T05:33:51.464465Z"
    }
   },
   "outputs": [],
   "source": [
    "fig = plt.figure(figsize = (10, 5)) \n",
    "sns.countplot(x = 'admission_source_id', hue = 'readmitted', data = df)"
   ]
  },
  {
   "cell_type": "code",
   "execution_count": null,
   "id": "db695317",
   "metadata": {
    "ExecuteTime": {
     "end_time": "2021-11-30T05:33:52.015801Z",
     "start_time": "2021-11-30T05:33:51.787917Z"
    }
   },
   "outputs": [],
   "source": [
    "fig = plt.figure(figsize = (10, 5)) \n",
    "sns.countplot(x = 'age', hue = 'readmitted', data = df)"
   ]
  },
  {
   "cell_type": "code",
   "execution_count": null,
   "id": "cdfbb46c",
   "metadata": {
    "ExecuteTime": {
     "end_time": "2021-11-30T05:33:52.367556Z",
     "start_time": "2021-11-30T05:33:52.019241Z"
    }
   },
   "outputs": [],
   "source": [
    "fig = plt.figure(figsize = (10, 5)) \n",
    "ax = fig.add_subplot(111)\n",
    "\n",
    "sns.countplot(df[df.readmitted == 1].race.values)\n",
    "ax.set_title('Readmitted Patient')\n",
    "\n",
    "fig = plt.figure(figsize = (10, 5)) \n",
    "ax = fig.add_subplot(111)\n",
    "sns.countplot(df[df.readmitted == 0].race.values)\n",
    "ax.set_title('Not Readmitted Patient')"
   ]
  },
  {
   "cell_type": "code",
   "execution_count": null,
   "id": "34fc973c",
   "metadata": {
    "ExecuteTime": {
     "end_time": "2021-11-30T05:33:54.333264Z",
     "start_time": "2021-11-30T05:33:52.369794Z"
    }
   },
   "outputs": [],
   "source": [
    "matrix = np.triu(df.corr())\n",
    "fig, ax = plt.subplots(figsize=(16,16))\n",
    "sns.heatmap(df.corr(), annot=True, ax=ax, fmt='.1g', vmin=-1, vmax=1, center= 0, mask=matrix, cmap='RdBu_r')\n",
    "plt.show()"
   ]
  },
  {
   "cell_type": "code",
   "execution_count": null,
   "id": "28bcfbd1",
   "metadata": {
    "ExecuteTime": {
     "end_time": "2021-11-30T05:33:55.014032Z",
     "start_time": "2021-11-30T05:33:54.335803Z"
    }
   },
   "outputs": [],
   "source": [
    "fig = plt.figure(figsize=(18, 6))\n",
    "\n",
    "ax1 = fig.add_subplot(2, 2, 1)\n",
    "ax2 = fig.add_subplot(2, 2, 2)\n",
    "ax3 = fig.add_subplot(2, 2, 3)\n",
    "ax4 = fig.add_subplot(2, 2, 4)\n",
    "\n",
    "sns.countplot(data=df, x='race', hue='readmitted', ax=ax1)\n",
    "sns.countplot(data=df, x='age', hue='readmitted', ax=ax2)\n",
    "sns.countplot(data=df, x='gender', hue='readmitted', ax=ax3)\n",
    "sns.countplot(data=df, x='diabetesMed', hue='readmitted', ax=ax4)\n",
    "\n",
    "ax1.legend(loc='upper right')\n",
    "ax2.legend(loc='upper right')\n",
    "ax3.legend(loc='upper right')\n",
    "ax4.legend(loc='upper right')\n",
    "plt.tight_layout()\n",
    "plt.show()"
   ]
  },
  {
   "cell_type": "code",
   "execution_count": null,
   "id": "7b152d8e",
   "metadata": {
    "ExecuteTime": {
     "end_time": "2021-11-30T05:33:55.573047Z",
     "start_time": "2021-11-30T05:33:55.016317Z"
    }
   },
   "outputs": [],
   "source": [
    "fig, ax = plt.subplots(1, 7,figsize=(20, 4), subplot_kw=dict(aspect=\"equal\"))\n",
    "ax[0].pie(df['metformin'].value_counts(), autopct='%1.0f%%', labels=['No', 'Steady', 'Up', 'Down'])\n",
    "ax[0].set_title('metformin Dosage')\n",
    "ax[1].pie(df['glimepiride'].value_counts(), autopct='%1.0f%%', labels=['No', 'Steady', 'Up', 'Down'])\n",
    "ax[1].set_title('glimepiride Dosage')\n",
    "ax[2].pie(df['glipizide'].value_counts(), autopct='%1.0f%%', labels=['No', 'Steady', 'Up', 'Down'])\n",
    "ax[2].set_title('glipizide Dosage')\n",
    "ax[3].pie(df['glyburide'].value_counts(), autopct='%1.0f%%', labels=['No', 'Steady', 'Up', 'Down'])\n",
    "ax[3].set_title('glyburide Dosage')\n",
    "ax[4].pie(df['pioglitazone'].value_counts(), autopct='%1.0f%%', labels=['No', 'Steady', 'Up', 'Down'])\n",
    "ax[4].set_title('pioglitazone Dosage')\n",
    "ax[5].pie(df['rosiglitazone'].value_counts(), autopct='%1.0f%%', labels=['No', 'Steady', 'Up', 'Down'])\n",
    "ax[5].set_title('rosiglitazone Dosage')\n",
    "ax[6].pie(df['insulin'].value_counts(), autopct='%1.0f%%', labels=['No', 'Steady', 'Down', 'Up'])\n",
    "ax[6].set_title('insulin Dosage')\n",
    "\n",
    "fig.suptitle('Drugs Dosage Changes During Encounter')\n",
    "plt.show()"
   ]
  },
  {
   "cell_type": "markdown",
   "id": "0394bd0a",
   "metadata": {},
   "source": [
    "## DATA PREPROCESSING"
   ]
  },
  {
   "cell_type": "code",
   "execution_count": null,
   "id": "ba956378",
   "metadata": {
    "ExecuteTime": {
     "end_time": "2021-11-30T05:33:55.612694Z",
     "start_time": "2021-11-30T05:33:55.574876Z"
    }
   },
   "outputs": [],
   "source": [
    "df = pd.concat([df,pd.get_dummies(df['race'], prefix='race')], axis=1).drop(['race'],axis=1)\n"
   ]
  },
  {
   "cell_type": "code",
   "execution_count": null,
   "id": "56bd15f1",
   "metadata": {
    "ExecuteTime": {
     "end_time": "2021-11-30T05:33:55.647648Z",
     "start_time": "2021-11-30T05:33:55.614289Z"
    }
   },
   "outputs": [],
   "source": [
    "y = df['readmitted']\n",
    "X = df.drop(['readmitted'], axis=1)\n",
    "\n",
    "X_train, X_valtest, y_train, y_valtest = train_test_split(X, y, test_size=0.3, random_state=101)\n",
    "X_val, X_test, y_val, y_test = train_test_split(X_valtest, y_valtest, test_size=0.5, random_state=101)"
   ]
  },
  {
   "cell_type": "code",
   "execution_count": null,
   "id": "ee706008",
   "metadata": {
    "ExecuteTime": {
     "end_time": "2021-11-30T05:33:55.712463Z",
     "start_time": "2021-11-30T05:33:55.649605Z"
    }
   },
   "outputs": [],
   "source": [
    "sc_X = StandardScaler()\n",
    "\n",
    "Xsc_train = sc_X.fit_transform(X_train)\n",
    "Xsc_val = sc_X.fit_transform(X_val)\n",
    "Xsc_test = sc_X.fit_transform(X_test)"
   ]
  },
  {
   "cell_type": "code",
   "execution_count": null,
   "id": "11c665f2",
   "metadata": {
    "ExecuteTime": {
     "end_time": "2021-11-30T05:44:44.844926Z",
     "start_time": "2021-11-30T05:33:55.715571Z"
    }
   },
   "outputs": [],
   "source": [
    "#Naive Bayes\n",
    "nbm = GaussianNB()\n",
    "nbm.fit(X_train,y_train)\n",
    "nbm_pred = nbm.predict(X_val)\n",
    "\n",
    "#KNN\n",
    "knn = KNeighborsClassifier() \n",
    "knn.fit(Xsc_train,y_train)\n",
    "knn_pred = knn.predict(Xsc_val)\n",
    "\n",
    "#SVM\n",
    "svm = SVC() \n",
    "svm.fit(Xsc_train,y_train)\n",
    "svm_pred = svm.predict(Xsc_val)\n",
    "\n",
    "#Randon Forest\n",
    "rfm = RandomForestClassifier() \n",
    "rfm.fit(X_train,y_train)\n",
    "rfm_pred = rfm.predict(X_val)\n",
    "\n",
    "#Gradient Boosting\n",
    "gbm = GradientBoostingClassifier() \n",
    "gbm.fit(X_train,y_train)\n",
    "gbm_pred = gbm.predict(X_val)"
   ]
  },
  {
   "cell_type": "code",
   "execution_count": null,
   "id": "57a81481",
   "metadata": {
    "ExecuteTime": {
     "end_time": "2021-11-30T05:55:23.468290Z",
     "start_time": "2021-11-30T05:55:23.448975Z"
    }
   },
   "outputs": [],
   "source": [
    "results = [\n",
    "    {\n",
    "        \"Model\":'Gaussian Naive Bayes',\n",
    "    'f1_score':metrics.f1_score(y_val, nbm_pred,average='micro')\n",
    "    },\n",
    "    {\n",
    "        'Model':'K-Nearest Neighbor',\n",
    "       'f1_score':metrics.f1_score(y_val, knn_pred,average='micro')\n",
    "      },\n",
    "    {\n",
    "        'Model':'SVM',\n",
    "       'f1_score': metrics.f1_score(y_val, svm_pred,average='micro')\n",
    "    },\n",
    "    {\n",
    "        'Model':'Random Forest',\n",
    "       'f1_score': metrics.f1_score(y_val, rfm_pred,average='micro')\n",
    "    },\n",
    "    {\n",
    "        'Model':'Gradient Boost',\n",
    "       'f1_score': metrics.f1_score(y_val, gbm_pred,average='micro')\n",
    "    }\n",
    "    ]"
   ]
  },
  {
   "cell_type": "code",
   "execution_count": null,
   "id": "9218edb7",
   "metadata": {
    "ExecuteTime": {
     "end_time": "2021-11-30T05:55:23.818035Z",
     "start_time": "2021-11-30T05:55:23.808084Z"
    }
   },
   "outputs": [],
   "source": [
    "results_df = pd.DataFrame(results)"
   ]
  },
  {
   "cell_type": "markdown",
   "id": "d0ac1fc7",
   "metadata": {},
   "source": [
    "# WINNER"
   ]
  },
  {
   "cell_type": "code",
   "execution_count": null,
   "id": "f4079c67",
   "metadata": {
    "ExecuteTime": {
     "end_time": "2021-11-30T05:55:24.920549Z",
     "start_time": "2021-11-30T05:55:24.912700Z"
    }
   },
   "outputs": [],
   "source": [
    "results_df[results_df['f1_score'] == results_df['f1_score'].max()]"
   ]
  },
  {
   "cell_type": "code",
   "execution_count": null,
   "id": "25d89790",
   "metadata": {
    "ExecuteTime": {
     "end_time": "2021-11-30T05:55:31.906528Z",
     "start_time": "2021-11-30T05:55:31.817767Z"
    }
   },
   "outputs": [],
   "source": [
    "print('\\nGaussian Naive Bayes:')\n",
    "print('---------------------------------')\n",
    "print('F1 Score        : ', metrics.f1_score(y_val, nbm_pred,average='micro'))\n",
    "print('Confusion Matrix:\\n ', confusion_matrix(y_val, nbm_pred))\n",
    "\n",
    "print('\\nK-Nearest Neighbor:')\n",
    "print('---------------------------------------')\n",
    "print('F1 Score        : ', metrics.f1_score(y_val, knn_pred,average='micro'))\n",
    "print('Confusion Matrix:\\n ', confusion_matrix(y_val, knn_pred))\n",
    "\n",
    "print('\\nSVM:')\n",
    "print('------------------------')\n",
    "print('F1 Score        : ', metrics.f1_score(y_val, svm_pred,average='micro'))\n",
    "print('Confusion Matrix:\\n ', confusion_matrix(y_val, svm_pred))\n",
    "\n",
    "print('\\nRandom Forest:')\n",
    "print('----------------------------------')\n",
    "print('F1 Score        : ', metrics.f1_score(y_val, rfm_pred,average='micro'))\n",
    "print('Confusion Matrix:\\n ', confusion_matrix(y_val, rfm_pred))\n",
    "\n",
    "print('\\nGradient Boost:')\n",
    "print('-----------------------------------')\n",
    "print('F1 Score        : ', metrics.f1_score(y_val, gbm_pred,average='micro'))\n",
    "print('Confusion Matrix:\\n ', confusion_matrix(y_val, gbm_pred))"
   ]
  },
  {
   "cell_type": "markdown",
   "id": "bb28c8ae",
   "metadata": {},
   "source": [
    "# Feature Importance Score"
   ]
  },
  {
   "cell_type": "code",
   "execution_count": null,
   "id": "159a8c25",
   "metadata": {
    "ExecuteTime": {
     "end_time": "2021-11-30T05:55:56.298659Z",
     "start_time": "2021-11-30T05:55:55.917321Z"
    }
   },
   "outputs": [],
   "source": [
    "predictors = [x for x in X_train.columns]\n",
    "feat_imp = pd.Series(gbm.feature_importances_, predictors).sort_values(ascending=False)\n",
    "fig = plt.figure(figsize=(12, 6))\n",
    "feat_imp.plot(kind='bar', title='Feature Importances')\n",
    "plt.ylabel('Feature Importance Score')"
   ]
  }
 ],
 "metadata": {
  "kernelspec": {
   "display_name": "Python 3",
   "language": "python",
   "name": "python3"
  },
  "language_info": {
   "codemirror_mode": {
    "name": "ipython",
    "version": 3
   },
   "file_extension": ".py",
   "mimetype": "text/x-python",
   "name": "python",
   "nbconvert_exporter": "python",
   "pygments_lexer": "ipython3",
   "version": "3.9.5"
  }
 },
 "nbformat": 4,
 "nbformat_minor": 5
}
